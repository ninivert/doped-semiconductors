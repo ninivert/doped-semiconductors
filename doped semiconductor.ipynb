{
 "cells": [
  {
   "cell_type": "code",
   "execution_count": 1,
   "id": "intelligent-satin",
   "metadata": {},
   "outputs": [],
   "source": [
    "import numpy as np\n",
    "import matplotlib.pyplot as plt\n",
    "from scipy.constants import k as k_B\n",
    "from scipy.constants import eV as eV\n",
    "from scipy.optimize import toms748, brentq\n",
    "from ipywidgets import interactive, FloatSlider, FloatLogSlider, fixed"
   ]
  },
  {
   "cell_type": "markdown",
   "id": "classified-blast",
   "metadata": {},
   "source": [
    "# Theoretical model\n",
    "\n",
    "Intrinsic contribution : \n",
    "\n",
    "- electrons in conduction band : $n = N_C \\exp(-\\beta(E_C - \\mu))$\n",
    "- holes in valence band : $p = N_V \\exp(-\\beta(\\mu - E_V))$\n",
    "\n",
    "Impurities contribution :\n",
    "\n",
    "- holes in donor level : $h_D = N_D - n_D = N_D - \\frac{N_D}{1 + 1/2 \\exp(\\beta(E_D - \\mu))}$\n",
    "- electrons in acceptor level : $e_A = N_A - n_A = N_A - \\frac{N_A}{1 + 1/2 \\exp(\\mu - E_A))}$\n",
    "\n",
    "Electrical neutrality equation fixes the chemical potential $\\mu$ :\n",
    "\n",
    "$$n + e_A = p + h_D$$"
   ]
  },
  {
   "cell_type": "code",
   "execution_count": 2,
   "id": "interracial-nutrition",
   "metadata": {
    "scrolled": false
   },
   "outputs": [],
   "source": [
    "def get_model(which='lecture'):    \n",
    "    if which == 'lecture':\n",
    "        # Approach from the lecture notes\n",
    "        # Supposing non-degenerate semiconductor,\n",
    "        # compute intrinsic contributions of holes in valence band $p$,\n",
    "        # and intrinsic contribution of electrons in conduction band $n$\n",
    "        n = lambda opts: opts['N_C']*np.exp(-(opts['E_C'] - opts['mu']) / (k_B*opts['T']))\n",
    "        p = lambda opts: opts['N_V']*np.exp(-(opts['mu'] - opts['E_V']) / (k_B*opts['T']))\n",
    "        # Compute ionized impurity contributions\n",
    "        h_D = lambda opts: opts['N_D'] - opts['N_D'] / (1 + 0.5*np.exp((opts['E_D'] - opts['mu']) / (k_B*opts['T'])))\n",
    "        e_A = lambda opts: opts['N_A'] - opts['N_A'] / (1 + 0.5*np.exp((opts['mu'] - opts['E_A']) / (k_B*opts['T'])))\n",
    "    \n",
    "    elif which == 'online':\n",
    "        # http://ecee.colorado.edu/~bart/book/extrinsi.htm\n",
    "        # http://ecee.colorado.edu/~bart/book/intrinsi.htm\n",
    "        n_i = lambda opts: np.sqrt(opts['N_C']*opts['N_V']*np.exp(-(opts['E_C'] - opts['E_V']) / (k_B*opts['T'])))\n",
    "        E_i = lambda opts: (opts['E_C'] + opts['E_V'])*0.5 + 0.5*k_B*opts['T']*np.log(opts['N_V']/opts['N_C'])\n",
    "        p = lambda opts: n_i(opts)*np.exp((E_i(opts) - opts['mu']) / (k_B*opts['T']))\n",
    "        n = lambda opts: n_i(opts)*np.exp((opts['mu'] - E_i(opts)) / (k_B*opts['T']))\n",
    "        # Compute ionized impurity contributions\n",
    "        h_D = lambda opts: opts['N_D'] / (1 + 2*np.exp((opts['mu'] - opts['E_D']) / (k_B*opts['T'])))\n",
    "        e_A = lambda opts: opts['N_A'] / (1 + 4*np.exp((opts['E_A'] - opts['mu']) / (k_B*opts['T'])))\n",
    "        \n",
    "    else:\n",
    "        raise RuntimeError(f'Unknown model {which}')\n",
    "    \n",
    "    def eq_neutrality(mu, opts):\n",
    "        _opts = {**opts, 'mu': mu}\n",
    "        return h_D(_opts) + p(_opts) - e_A(_opts) - n(_opts)\n",
    "    \n",
    "    return n, p, h_D, e_A, eq_neutrality"
   ]
  },
  {
   "cell_type": "markdown",
   "id": "partial-watts",
   "metadata": {},
   "source": [
    "# Coding..."
   ]
  },
  {
   "cell_type": "markdown",
   "id": "joined-nomination",
   "metadata": {},
   "source": [
    "## Preparing for plotting"
   ]
  },
  {
   "cell_type": "code",
   "execution_count": 3,
   "id": "sustained-queue",
   "metadata": {},
   "outputs": [],
   "source": [
    "def plot_charges_mu(**opts):\n",
    "    \"\"\"Demonstrates how the chemical potential solves the neutrality equation\"\"\"\n",
    "    \n",
    "    opts.update({'mu': np.linspace(-0.5, 1.5, 100)*eV})\n",
    "    opts['E_D'] *= eV  # convert to Joules\n",
    "    opts['E_A'] *= eV\n",
    "    opts['E_C'] *= eV\n",
    "    n, p, h_D, e_A, eq_neutrality = get_model()\n",
    "    np.seterr(over='ignore')  # Ignore floating-point overflows\n",
    "    \n",
    "    # Compute the chemical potential which ensures charge neutrality\n",
    "    mu_root = brentq(eq_neutrality, a=min(opts['mu']), b=max(opts['mu']), xtol=eV*1e-3, args=opts)\n",
    "    \n",
    "    # Charge neutrality : $N_D - h_D + p = N_A - e_A + n$\n",
    "    fig, ax = plt.subplots(facecolor='white')\n",
    "    ax.plot(opts['mu']/eV, h_D(opts) + p(opts))\n",
    "    ax.plot(opts['mu']/eV, e_A(opts) + n(opts))\n",
    "    ax.axvline(mu_root/eV, linestyle='--', color='tab:gray')\n",
    "    ax.set_yscale('log')\n",
    "    ax.set_ylim((1e0, 1e30))\n",
    "    ax.set_xlabel('$\\\\mu$ [eV]')\n",
    "    ax.set_ylabel('charge carrier density [m$^{{-3}}$]')\n",
    "    plt.show(fig)\n",
    "    plt.close(fig)\n",
    "\n",
    "def plot_mu_T(**opts):\n",
    "    \"\"\"Plots the chemical potential as a function of temperature\"\"\"\n",
    "    \n",
    "    opts.update({'mu': np.linspace(-0.5, 1.5, 100)*eV})\n",
    "    opts['E_D'] *= eV  # convert to Joules\n",
    "    opts['E_A'] *= eV\n",
    "    opts['E_C'] *= eV\n",
    "    n, p, h_D, e_A, eq_neutrality = get_model()\n",
    "    np.seterr(over='ignore')  # Ignore floating-point overflows\n",
    "    \n",
    "    fig, ax = plt.subplots(facecolor='white')\n",
    "    Ts = np.linspace(10, 10000, 400)\n",
    "    # Use a root solver to find the Fermi energy (intersection between the curves)\n",
    "    mus = np.array([\n",
    "        brentq(\n",
    "            eq_neutrality,\n",
    "            a=min(opts['mu']), b=max(opts['mu']), xtol=eV*1e-3,\n",
    "            args={**opts, 'T': T}\n",
    "        )\n",
    "        for T in Ts\n",
    "    ])\n",
    "    ax.plot(Ts*k_B/eV, mus/eV)\n",
    "    ax.axhline(opts['E_C']/eV, color='tab:gray')\n",
    "    ax.axhline(opts['E_V']/eV, color='tab:gray')\n",
    "    ax.axhline(opts['E_D']/eV, linestyle='--', color='tab:gray')\n",
    "    ax.axhline(opts['E_A']/eV, linestyle='--', color='tab:gray')\n",
    "    ax.set_xscale('log')\n",
    "    ax.set_xlabel('$k_B T$ [eV]')\n",
    "    ax.set_ylabel('$\\\\mu$ [eV]')\n",
    "    plt.show(fig)\n",
    "    plt.close(fig)\n",
    "\n",
    "def plot_n_T(**opts):\n",
    "    \"\"\"Plots conduction electrons as a function of 1/(k_B*T)\"\"\"\n",
    "    \n",
    "    opts['E_D'] *= eV  # convert to Joules\n",
    "    opts['E_A'] *= eV\n",
    "    opts['E_C'] *= eV\n",
    "    n, p, h_D, e_A, eq_neutrality = get_model()\n",
    "    np.seterr(over='ignore')  # Ignore floating-point overflows\n",
    "    \n",
    "    fig, ax = plt.subplots(facecolor='white')\n",
    "    Ts = np.linspace(120, 1000, 400)\n",
    "    # Use a root solver to find the Fermi energy (intersection between the curves)\n",
    "    mus = np.array([\n",
    "        brentq(\n",
    "            eq_neutrality,\n",
    "            a=-0.5*eV, b=1.5*eV, xtol=eV*1e-3,\n",
    "            args={**opts, 'T': T}\n",
    "        )\n",
    "        for T in Ts\n",
    "    ])\n",
    "    _opts = {**opts, 'T': Ts, 'mu': mus}\n",
    "    ax.plot(1/(Ts*k_B/eV), n(_opts) + e_A(_opts))\n",
    "    ax.set_yscale('log')\n",
    "    ax.set_xlabel('$\\\\frac{1}{k_B T}$ [1/eV]')\n",
    "    ax.set_ylabel('$n_{tot}$ [eV]')\n",
    "    plt.show(fig)\n",
    "    plt.close(fig)"
   ]
  },
  {
   "cell_type": "markdown",
   "id": "selected-quick",
   "metadata": {},
   "source": [
    "## Preparing interactivity"
   ]
  },
  {
   "cell_type": "code",
   "execution_count": 4,
   "id": "genetic-surge",
   "metadata": {},
   "outputs": [],
   "source": [
    "def get_sliders():\n",
    "    \"\"\"Constructs new sliders to vary parameters\"\"\"\n",
    "    \n",
    "    style = {'description_width': '600px'}\n",
    "    layout = {'width': '600px'}\n",
    "\n",
    "    slider_N_D = FloatLogSlider(\n",
    "        value=1e16, base=10, min=13, max=17, step=0.2,\n",
    "        description='Number of donors [1/cm³]',\n",
    "        style=style, continuous_update=False, layout=layout\n",
    "    )\n",
    "    slider_E_D = FloatSlider(\n",
    "        value=0.95, min=0, max=2, step=0.04,\n",
    "        description='Donor energy [eV]',\n",
    "        style=style, continuous_update=False, layout=layout\n",
    "    )\n",
    "    slider_N_A = FloatLogSlider(\n",
    "        value=1e14, base=10, min=13, max=17, step=0.2,\n",
    "        description='Number of acceptors [1/cm³]',\n",
    "        style=style, continuous_update=False, layout=layout\n",
    "    )\n",
    "    slider_E_A = FloatSlider(\n",
    "        value=0.05, min=0, max=2, step=0.04,\n",
    "        description='Acceptor energy [eV]',\n",
    "        style=style, continuous_update=False, layout=layout\n",
    "    )\n",
    "    slider_E_V = fixed(\n",
    "        value=0, min=0, max=2, step=0.04,\n",
    "        description='Valence band energy [eV]',\n",
    "        style=style, continuous_update=False, layout=layout\n",
    "    )\n",
    "    slider_E_C = FloatSlider(\n",
    "        value=1.12, min=0, max=2, step=0.04,\n",
    "        description='Conduction band energy [eV]',\n",
    "        style=style, continuous_update=False, layout=layout\n",
    "    )\n",
    "    slider_T=FloatSlider(\n",
    "        value=300, min=1, max=500, step=20,\n",
    "        description='Temperature [K]',\n",
    "        style=style, continuous_update=False, layout=layout\n",
    "    )\n",
    "    slider_N_V = FloatLogSlider(\n",
    "        value=2.3e19, base=10, min=18, max=20, step=0.2,\n",
    "        description='Int. VB charge carriers [1/cm³]',\n",
    "        style=style, continuous_update=False, layout=layout\n",
    "    )\n",
    "    slider_N_C = FloatLogSlider(\n",
    "        value=1e19, base=10, min=18, max=20, step=0.2,\n",
    "        description='Int. CB charge carriers [1/cm³]',\n",
    "        style=style, continuous_update=False, layout=layout\n",
    "    )\n",
    "    \n",
    "    return slider_N_D, slider_E_D, slider_N_A, slider_E_A, slider_E_V, slider_E_C, slider_T, slider_N_V, slider_N_C"
   ]
  },
  {
   "cell_type": "markdown",
   "id": "interstate-kansas",
   "metadata": {},
   "source": [
    "# Roll the demo !"
   ]
  },
  {
   "cell_type": "markdown",
   "id": "preliminary-income",
   "metadata": {},
   "source": [
    "## Fixing $\\mu$\n",
    "\n",
    "- Change number of donors and number of acceptors to change n-type and p-type\n",
    "- Effect of temperature (widens the curve)\n",
    "- Effect of bringing donor band much lower (difficult D.B. to C.B. ionization)\n",
    "- Effect of bringing acceptor band much higher (difficult V.B to A.B ionization)"
   ]
  },
  {
   "cell_type": "code",
   "execution_count": 5,
   "id": "devoted-touch",
   "metadata": {
    "scrolled": false
   },
   "outputs": [
    {
     "data": {
      "application/vnd.jupyter.widget-view+json": {
       "model_id": "fcda81560a3e4041be676a9c0bba2134",
       "version_major": 2,
       "version_minor": 0
      },
      "text/plain": [
       "interactive(children=(FloatLogSlider(value=1e+16, continuous_update=False, description='Number of donors [1/cm…"
      ]
     },
     "metadata": {},
     "output_type": "display_data"
    }
   ],
   "source": [
    "slider_N_D, slider_E_D, slider_N_A, slider_E_A, slider_E_V, slider_E_C, slider_T, slider_N_V, slider_N_C = get_sliders()\n",
    "\n",
    "out = interactive(\n",
    "    plot_charges_mu,\n",
    "    N_D=slider_N_D, N_A=slider_N_A,\n",
    "    N_V=slider_N_V, N_C=slider_N_C,\n",
    "    E_C=slider_E_C, E_D=slider_E_D, E_A=slider_E_A, E_V=slider_E_V,\n",
    "    T=slider_T,\n",
    ")\n",
    "out.children[-1].layout.height = '300px'\n",
    "out"
   ]
  },
  {
   "cell_type": "markdown",
   "id": "bottom-wages",
   "metadata": {},
   "source": [
    "## $\\mu$ as a function of temperature, and 3 regimes\n",
    "\n",
    "- Change number of donors and number of acceptors to change n-type and p-type"
   ]
  },
  {
   "cell_type": "code",
   "execution_count": 6,
   "id": "solid-clinic",
   "metadata": {},
   "outputs": [
    {
     "data": {
      "application/vnd.jupyter.widget-view+json": {
       "model_id": "5ca2f23ca5c34bc6b246dbad4626d143",
       "version_major": 2,
       "version_minor": 0
      },
      "text/plain": [
       "interactive(children=(FloatLogSlider(value=1e+16, continuous_update=False, description='Number of donors [1/cm…"
      ]
     },
     "metadata": {},
     "output_type": "display_data"
    }
   ],
   "source": [
    "slider_N_D, slider_E_D, slider_N_A, slider_E_A, slider_E_V, slider_E_C, slider_T, slider_N_V, slider_N_C = get_sliders()\n",
    "\n",
    "out = interactive(\n",
    "    plot_mu_T,\n",
    "    N_D=slider_N_D, N_A=slider_N_A,\n",
    "    N_V=slider_N_V, N_C=slider_N_C,\n",
    "    E_C=slider_E_C, E_D=slider_E_D, E_A=slider_E_A, E_V=slider_E_V,\n",
    ")\n",
    "out.children[-1].layout.height = '300px'\n",
    "out"
   ]
  },
  {
   "cell_type": "markdown",
   "id": "streaming-regular",
   "metadata": {},
   "source": [
    "## Electron density in conduction band as a function of temperature\n",
    "\n",
    "I'm still sceptical for this one, for lower temperatures the graph doesn't look quite right... maybe I did something wrong in the implementation"
   ]
  },
  {
   "cell_type": "code",
   "execution_count": 7,
   "id": "regular-tractor",
   "metadata": {},
   "outputs": [
    {
     "data": {
      "application/vnd.jupyter.widget-view+json": {
       "model_id": "6e2185d708ba4e6d97c115272638f3eb",
       "version_major": 2,
       "version_minor": 0
      },
      "text/plain": [
       "interactive(children=(FloatLogSlider(value=1e+16, continuous_update=False, description='Number of donors [1/cm…"
      ]
     },
     "metadata": {},
     "output_type": "display_data"
    }
   ],
   "source": [
    "slider_N_D, slider_E_D, slider_N_A, slider_E_A, slider_E_V, slider_E_C, slider_T, slider_N_V, slider_N_C = get_sliders()\n",
    "\n",
    "out = interactive(\n",
    "    plot_n_T,\n",
    "    N_D=slider_N_D, N_A=slider_N_A,\n",
    "    N_V=slider_N_V, N_C=slider_N_C,\n",
    "    E_C=slider_E_C, E_D=slider_E_D, E_A=slider_E_A, E_V=slider_E_V,\n",
    ")\n",
    "out.children[-1].layout.height = '300px'\n",
    "out"
   ]
  }
 ],
 "metadata": {
  "kernelspec": {
   "display_name": "Python 3",
   "language": "python",
   "name": "python3"
  },
  "language_info": {
   "codemirror_mode": {
    "name": "ipython",
    "version": 3
   },
   "file_extension": ".py",
   "mimetype": "text/x-python",
   "name": "python",
   "nbconvert_exporter": "python",
   "pygments_lexer": "ipython3",
   "version": "3.9.2"
  },
  "toc": {
   "base_numbering": 1,
   "nav_menu": {},
   "number_sections": true,
   "sideBar": true,
   "skip_h1_title": false,
   "title_cell": "Table of Contents",
   "title_sidebar": "Contents",
   "toc_cell": false,
   "toc_position": {},
   "toc_section_display": true,
   "toc_window_display": true
  }
 },
 "nbformat": 4,
 "nbformat_minor": 5
}
